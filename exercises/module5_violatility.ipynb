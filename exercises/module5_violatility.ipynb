{
 "cells": [
  {
   "cell_type": "markdown",
   "metadata": {},
   "source": [
    "# Module 5 Violatility"
   ]
  },
  {
   "cell_type": "markdown",
   "metadata": {},
   "source": [
    "## Implied Violatility"
   ]
  },
  {
   "cell_type": "code",
   "execution_count": null,
   "metadata": {},
   "outputs": [],
   "source": [
    "from scipy import log,exp,sqrt,stats \n",
    "def bs_call(S,X,T,r,sigma):\n",
    "    d1=(log(S/X)+(r+sigma*sigma/2.)*T)/(sigma*sqrt(T)) \n",
    "    d2 = d1-sigma*sqrt(T)\n",
    "    return S*stats.norm.cdf(d1)-X*exp(-r*T)*stats.norm.cdf(d2)"
   ]
  },
  {
   "cell_type": "code",
   "execution_count": null,
   "metadata": {},
   "outputs": [],
   "source": [
    "bs_call(40.,42.,0.5,0.015,0.2)"
   ]
  },
  {
   "cell_type": "code",
   "execution_count": null,
   "metadata": {},
   "outputs": [],
   "source": [
    "from scipy import log,exp,sqrt,stats\n",
    "\n",
    "def implied_vol_call(S,X,T,r,c):\n",
    "    for i in range(200):\n",
    "        sigma=0.005*(i+1)\n",
    "        d1=(log(S/X)+(r+sigma*sigma/2.)*T)/(sigma*sqrt(T))\n",
    "        d2 = d1-sigma*sqrt(T)\n",
    "        diff=c-(S*stats.norm.cdf(d1)-X*exp(-r*T)*stats.norm.cdf(d2))\n",
    "        if abs(diff)<=0.01:\n",
    "            return i,sigma, diff\n"
   ]
  },
  {
   "cell_type": "code",
   "execution_count": null,
   "metadata": {},
   "outputs": [],
   "source": [
    "implied_vol_call(40,42,0.5,0.015,1.56)"
   ]
  },
  {
   "cell_type": "code",
   "execution_count": null,
   "metadata": {},
   "outputs": [],
   "source": [
    "from scipy import log,exp,sqrt,stats \n",
    "import numpy as np\n",
    "\n",
    "def implied_vol_put_min(S,X,T,r,p):\n",
    "    implied_vol=1.0\n",
    "    min_value=100.0\n",
    "    for i in np.arange(1,10000): \n",
    "        sigma=0.0001*(i+1)\n",
    "        d1=(log(S/X)+(r+sigma*sigma/2.)*T)/(sigma*sqrt(T)) \n",
    "        d2 = d1-sigma*sqrt(T)\n",
    "        put=X*exp(-r*T)*stats.norm.cdf(-d2)-S*stats.norm.cdf(-d1) \n",
    "        abs_diff=abs(put-p)\n",
    "        if abs_diff<min_value: \n",
    "            min_value=abs_diff \n",
    "            implied_vol=sigma \n",
    "            k=i\n",
    "        put_out=put\n",
    "    print('k, implied_vol, put, abs_diff')\n",
    "    return k,implied_vol, put_out,min_value"
   ]
  },
  {
   "cell_type": "code",
   "execution_count": null,
   "metadata": {},
   "outputs": [],
   "source": [
    "implied_vol_put_min(40,40,1.,0.1,1.501)"
   ]
  },
  {
   "cell_type": "code",
   "execution_count": null,
   "metadata": {},
   "outputs": [],
   "source": [
    "def binary_search(x, target, my_min=1, my_max=None):\n",
    "    if my_max is None:\n",
    "       my_max = len(x) - 1\n",
    "    while my_min <= my_max:\n",
    "      mid = (my_min + my_max)//2\n",
    "      midval = x[mid]\n",
    "      if midval < target:\n",
    "          my_min = my_mid + 1\n",
    "      elif midval > target:\n",
    "          my_max = mid - 1\n",
    "      else:\n",
    "          return mid\n",
    "    raise ValueError"
   ]
  },
  {
   "cell_type": "code",
   "execution_count": null,
   "metadata": {},
   "outputs": [],
   "source": []
  }
 ],
 "metadata": {
  "kernelspec": {
   "display_name": "Python 3",
   "language": "python",
   "name": "python3"
  },
  "language_info": {
   "codemirror_mode": {
    "name": "ipython",
    "version": 3
   },
   "file_extension": ".py",
   "mimetype": "text/x-python",
   "name": "python",
   "nbconvert_exporter": "python",
   "pygments_lexer": "ipython3",
   "version": "3.6.5"
  }
 },
 "nbformat": 4,
 "nbformat_minor": 2
}
