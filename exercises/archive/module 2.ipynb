{
 "cells": [
  {
   "cell_type": "markdown",
   "metadata": {},
   "source": [
    "# Module 2 Exotic Options"
   ]
  },
  {
   "cell_type": "markdown",
   "metadata": {},
   "source": [
    "## Bermudan Option"
   ]
  },
  {
   "cell_type": "code",
   "execution_count": 5,
   "metadata": {},
   "outputs": [
    {
     "name": "stdout",
     "output_type": "stream",
     "text": [
      "American call = 2.7549263174936502\n"
     ]
    }
   ],
   "source": [
    "def binomialCallAmerican(s,x,T,r,sigma,n=100):\n",
    "    from math import exp,sqrt\n",
    "    import numpy as np\n",
    "    deltaT = T /n\n",
    "    u = exp(sigma * sqrt(deltaT)) \n",
    "    d = 1.0 / u\n",
    "    a = exp(r * deltaT)\n",
    "    p = (a - d) / (u - d)\n",
    "    v = [[0.0 for j in np.arange(i + 1)] for i in np.arange(n + 1)] \n",
    "    for j in np.arange(n+1):\n",
    "        v[n][j] = max(s * u**j * d**(n - j) - x, 0.0) \n",
    "    for i in np.arange(n-1, -1, -1):\n",
    "        for j in np.arange(i + 1):\n",
    "            v1=exp(-r*deltaT)*(p*v[i+1][j+1]+(1.0-p)*v[i+1][j]) \n",
    "            v2=max(v[i][j]-x,0)\t       # early exercise \n",
    "            v[i][j]=max(v1,v2)\n",
    "    return v[0][0]\n",
    "#\n",
    "s=40.        # stock price today \n",
    "x=40.        # exercise price\n",
    "T=6./12      # maturity date ii years\n",
    "tao=1/12     # when to choose\n",
    "r=0.05       # risk-free rate\n",
    "sigma=0.2    # volatility \n",
    "n=1000       # number of steps\n",
    "#\n",
    "price=binomialCallAmerican(s,x,T,r,sigma,n)\n",
    "print(\"American call =\", price)\n"
   ]
  },
  {
   "cell_type": "code",
   "execution_count": 7,
   "metadata": {},
   "outputs": [
    {
     "name": "stdout",
     "output_type": "stream",
     "text": [
      "Bermudan call = 2.7549263174936502\n"
     ]
    }
   ],
   "source": [
    "def callBermudan(s,x,T,r,sigma,T2,n=100):\n",
    "    from math import exp,sqrt\n",
    "    import numpy as np\n",
    "    n2=len(T2)\n",
    "    deltaT = T /n\n",
    "    u = exp(sigma * sqrt(deltaT)) \n",
    "    d = 1.0 / u\n",
    "    a = exp(r * deltaT)\n",
    "    p = (a - d) / (u - d)\n",
    "    v = [[0.0 for j in np.arange(i + 1)] for i in np.arange(n + 1)] \n",
    "    for j in np.arange(n+1):\n",
    "        v[n][j] = max(s * u**j * d**(n - j) - x, 0.0) \n",
    "    for i in np.arange(n-1, -1, -1):\n",
    "        for j in np.arange(i + 1):\n",
    "            v1=exp(-r*deltaT)*(p*v[i+1][j+1]+(1.0-p)*v[i+1][j])\n",
    "            for k in np.arange(n2):\n",
    "                if abs(j*deltaT-T2[k])<0.01:\n",
    "                    v2=max(v[i][j]-x,0)\t       # early exercise \n",
    "                else: \n",
    "                    v2=0\n",
    "            v[i][j]=max(v1,v2)\n",
    "    return v[0][0]\n",
    "#\n",
    "s=40.                 # stock price today \n",
    "x=40.                 # exercise price\n",
    "T=6./12               # maturity date ii years\n",
    "tao=1/12              # when to choose\n",
    "r=0.05                # risk-free rate\n",
    "sigma=0.2             # volatility \n",
    "n=1000                # number of steps\n",
    "T2=(3./12.,4./12.)    # a few dates to evaluate \n",
    "#\n",
    "price=callBermudan(s,x,T,r,sigma,T2,n)\n",
    "print(\"Bermudan call =\", price)\n"
   ]
  },
  {
   "cell_type": "markdown",
   "metadata": {},
   "source": [
    "## Chooser Option"
   ]
  },
  {
   "cell_type": "code",
   "execution_count": 2,
   "metadata": {},
   "outputs": [],
   "source": [
    "from scipy import log,exp,sqrt,stats \n",
    "def callAndPut(S,X,T,r,sigma,tao,type='C'):\n",
    "    d1=(log(S/X)+r*T+0.5*sigma*sigma*tao)/(sigma*sqrt(tao)) \n",
    "    d2 = d1-sigma*sqrt(tao)\n",
    "    if type.upper()=='C':\n",
    "        c=S*stats.norm.cdf(d1)-X*exp(-r*T)*stats.norm.cdf(d2)\n",
    "        return c\n",
    "    else:\n",
    "        p=X*exp(-r*T)*stats.norm.cdf(-d2)-S*stats.norm.cdf(-d1)\n",
    "        return p"
   ]
  },
  {
   "cell_type": "code",
   "execution_count": 3,
   "metadata": {},
   "outputs": [],
   "source": [
    "def chooserOption(S,X,T,r,sigma,tao):\n",
    "    call_T=callAndPut(S,X,T,r,sigma,T)\n",
    "    put_tao=callAndPut(S,X,T,r,sigma,tao,type='P')\n",
    "    return call_T- put_tao"
   ]
  },
  {
   "cell_type": "code",
   "execution_count": 4,
   "metadata": {},
   "outputs": [
    {
     "name": "stdout",
     "output_type": "stream",
     "text": [
      "price of a chooser option= 2.255517073557442\n"
     ]
    }
   ],
   "source": [
    "s=40.        # stock price today \n",
    "x=40.        # exercise price\n",
    "T=6./12      # maturity date ii years\n",
    "tao=1./12.   # when to choose\n",
    "r=0.05       # risk-free rate\n",
    "sigma=0.2    # volatility \n",
    "#\n",
    "\n",
    "price=chooserOption(s,x,T,r,sigma,tao)\n",
    "print(\"price of a chooser option=\",price)"
   ]
  },
  {
   "cell_type": "markdown",
   "metadata": {},
   "source": [
    "## Shout Call Option"
   ]
  },
  {
   "cell_type": "code",
   "execution_count": 8,
   "metadata": {},
   "outputs": [
    {
     "name": "stdout",
     "output_type": "stream",
     "text": [
      "Shout call = 2.7549263174936502\n"
     ]
    }
   ],
   "source": [
    "def shoutCall(s,x,T,r,sigma,shout,n=100):\n",
    "    from math import exp,sqrt\n",
    "    import numpy as np\n",
    "    deltaT = T /n\n",
    "    u = exp(sigma * sqrt(deltaT)) \n",
    "    d = 1.0 / u\n",
    "    a = exp(r * deltaT)\n",
    "    p = (a - d) / (u - d)\n",
    "    v = [[0.0 for j in np.arange(i + 1)] for i in np.arange(n + 1)] \n",
    "    for j in np.arange(n+1):\n",
    "        v[n][j] = max(s * u**j * d**(n - j) - x, 0.0) \n",
    "    for i in np.arange(n-1, -1, -1):\n",
    "        for j in np.arange(i + 1):\n",
    "            v1=exp(-r*deltaT)*(p*v[i+1][j+1]+(1.0-p)*v[i+1][j]) \n",
    "            v2=max(v[i][j]-shout,0)   # shout  \n",
    "            v[i][j]=max(v1,v2)\n",
    "    return v[0][0]\n",
    "#\n",
    "s=40.              # stock price today \n",
    "x=40.              # exercise price\n",
    "T=6./12            # maturity date ii years\n",
    "tao=1/12           # when to choose\n",
    "r=0.05             # risk-free rate\n",
    "sigma=0.2          # volatility \n",
    "n=1000             # number of steps\n",
    "shout=(1+0.03)*s   # shout out level \n",
    "#\n",
    "price=shoutCall(s,x,T,r,sigma,shout,n)\n",
    "print(\"Shout call =\", price)"
   ]
  },
  {
   "cell_type": "markdown",
   "metadata": {},
   "source": [
    "## Binary Option"
   ]
  },
  {
   "cell_type": "code",
   "execution_count": 12,
   "metadata": {},
   "outputs": [
    {
     "name": "stdout",
     "output_type": "stream",
     "text": [
      "Binary options call= 4.77307486\n"
     ]
    }
   ],
   "source": [
    "import random\n",
    "import scipy as sp\n",
    "import numpy as np\n",
    "#\n",
    "def terminalStockPrice(S, T,r,sigma):\n",
    "    tao=random.gauss(0,1.0)\n",
    "    terminalPrice=S * sp.exp((r - 0.5 * sigma**2)*T+sigma*sp.sqrt(T)*tao)\n",
    "    return terminalPrice\n",
    "#\n",
    "def binaryCallPayoff(x, sT,payoff):\n",
    "    if sT >= x:\n",
    "        return payoff\n",
    "    else:\n",
    "        return 0.0\n",
    "# input area \n",
    "S = 40.0            # asset price\n",
    "x = 40.0            #  exericse price \n",
    "T = 0.5             # maturity in years \n",
    "r = 0.01            # risk-free rate \n",
    "sigma = 0.2         # vol of 20%\n",
    "fixedPayoff = 10.0  # payoff \n",
    "nSimulations =10000 # number of simulatins \n",
    "#\n",
    "payoffs=0.0\n",
    "for i in np.arange(nSimulations):\n",
    "    sT = terminalStockPrice(S, T,r,sigma) \n",
    "    payoffs += binaryCallPayoff(x, sT,fixedPayoff)\n",
    "#\n",
    "price = sp.exp(-r * T) * (payoffs / float(nSimulations))\n",
    "print('Binary options call= %.8f' % price)"
   ]
  },
  {
   "cell_type": "markdown",
   "metadata": {},
   "source": [
    "## Barrier Option"
   ]
  },
  {
   "cell_type": "code",
   "execution_count": 13,
   "metadata": {},
   "outputs": [
    {
     "name": "stdout",
     "output_type": "stream",
     "text": [
      "up-and-out-call =  0.937\n"
     ]
    }
   ],
   "source": [
    "import scipy as sp \n",
    "from scipy import log,exp,sqrt,stats \n",
    "#\n",
    "def bsCall(S,X,T,r,sigma):\n",
    "    d1=(log(S/X)+(r+sigma*sigma/2.)*T)/(sigma*sqrt(T)) \n",
    "    d2 = d1-sigma*sqrt(T)\n",
    "    return S*stats.norm.cdf(d1)-X*exp(-r*T)*stats.norm.cdf(d2)\n",
    "#\n",
    "def up_and_out_call(s0,x,T,r,sigma,n_simulation,barrier):\n",
    "    n_steps=100. \n",
    "    dt=T/n_steps \n",
    "    total=0 \n",
    "    for j in sp.arange(0, n_simulation): \n",
    "        sT=s0 \n",
    "        out=False\n",
    "        for i in range(0,int(n_steps)): \n",
    "            e=sp.random.normal() \n",
    "            sT*=sp.exp((r-0.5*sigma*sigma)*dt+sigma*e*sp.sqrt(dt)) \n",
    "            if sT>barrier: \n",
    "               out=True \n",
    "        if out==False: \n",
    "            total+=bsCall(s0,x,T,r,sigma) \n",
    "    return total/n_simulation \n",
    "#\n",
    "s0=40.              # today stock price \n",
    "x=40.               # exercise price \n",
    "barrier=42          # barrier level \n",
    "T=0.5               # maturity in years \n",
    "r=0.05              # risk-free rate \n",
    "sigma=0.2           # volatility (annualized) \n",
    "n_simulation=100    # number of simulations \n",
    "sp.random.seed(12)  # fix a seed\n",
    "#\n",
    "result=up_and_out_call(s0,x,T,r,sigma,n_simulation,barrier) \n",
    "print('up-and-out-call = ', round(result,3))"
   ]
  },
  {
   "cell_type": "code",
   "execution_count": 15,
   "metadata": {},
   "outputs": [
    {
     "name": "stdout",
     "output_type": "stream",
     "text": [
      "upOutCall= 0.71 upInCall= 2.05\n",
      "Black-Scholes call 2.76\n"
     ]
    }
   ],
   "source": [
    "def upCall(s,x,T,r,sigma,nSimulation,barrier):\n",
    "    import scipy as sp\n",
    "    import p4f \n",
    "    n_steps=100\n",
    "    dt=T/n_steps \n",
    "    inTotal=0 \n",
    "    outTotal=0\n",
    "    for j in range(0, nSimulation): \n",
    "        sT=s\n",
    "        inStatus=False \n",
    "        outStatus=True\n",
    "        for i in range(0,int(n_steps)):\n",
    "            e=sp.random.normal()\n",
    "            sT*=sp.exp((r-0.5*sigma*sigma)*dt+sigma*e*sp.sqrt(dt)) \n",
    "            if sT>barrier:\n",
    "                outStatus=False \n",
    "                inStatus=True\n",
    "        if outStatus==True:\n",
    "            outTotal+=p4f.bs_call(s,x,T,r,sigma) \n",
    "        else:\n",
    "            inTotal+=p4f.bs_call(s,x,T,r,sigma) \n",
    "    return outTotal/nSimulation, inTotal/nSimulation\n",
    "#\n",
    "import p4f\n",
    "s=40.                 # today stock price \n",
    "x=40.                 # exercise price \n",
    "barrier=42.0          # barrier level \n",
    "T=0.5                 # maturity in years \n",
    "r=0.05                # risk-free rate \n",
    "sigma=0.2             # volatility (annualized) \n",
    "nSimulation=500       # number of simulations \n",
    "#\n",
    "upOutCall,upInCall=upCall(s,x,T,r,sigma,nSimulation,barrier) \n",
    "print('upOutCall=', round(upOutCall,2),'upInCall=',round(upInCall,2)) \n",
    "print('Black-Scholes call', round(p4f.bs_call(s,x,T,r,sigma),2))"
   ]
  },
  {
   "cell_type": "code",
   "execution_count": null,
   "metadata": {},
   "outputs": [],
   "source": []
  }
 ],
 "metadata": {
  "kernelspec": {
   "display_name": "Python 3",
   "language": "python",
   "name": "python3"
  },
  "language_info": {
   "codemirror_mode": {
    "name": "ipython",
    "version": 3
   },
   "file_extension": ".py",
   "mimetype": "text/x-python",
   "name": "python",
   "nbconvert_exporter": "python",
   "pygments_lexer": "ipython3",
   "version": "3.6.5"
  }
 },
 "nbformat": 4,
 "nbformat_minor": 2
}
