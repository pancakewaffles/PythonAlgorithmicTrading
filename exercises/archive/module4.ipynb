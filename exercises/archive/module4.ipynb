{
 "cells": [
  {
   "cell_type": "code",
   "execution_count": 20,
   "metadata": {},
   "outputs": [
    {
     "name": "stdout",
     "output_type": "stream",
     "text": [
      "                  GDP\n",
      "DATE                 \n",
      "2000-01-01  10002.857\n",
      "2000-04-01  10247.679\n",
      "                  GDP\n",
      "DATE                 \n",
      "2016-07-01  18799.648\n",
      "2016-10-01  18979.245\n",
      "2017-01-01  19162.550\n"
     ]
    }
   ],
   "source": [
    "import pandas_datareader.data as web\n",
    "import datetime\n",
    "begdate = datetime.datetime(2000, 1, 1)\n",
    "enddate = datetime.datetime(2017, 1, 27)\n",
    "\n",
    "x= web.DataReader(\"GDP\", \"fred\", begdate,enddate)\n",
    "print(x.head(2))\n",
    "print(x.tail(3))"
   ]
  },
  {
   "cell_type": "code",
   "execution_count": 28,
   "metadata": {},
   "outputs": [
    {
     "ename": "ImmediateDeprecationError",
     "evalue": "\nYahoo Daily has been immediately deprecated due to large breaks in the API without the\nintroduction of a stable replacement. Pull Requests to re-enable these data\nconnectors are welcome.\n\nSee https://github.com/pydata/pandas-datareader/issues\n",
     "output_type": "error",
     "traceback": [
      "\u001b[0;31m---------------------------------------------------------------------------\u001b[0m",
      "\u001b[0;31mImmediateDeprecationError\u001b[0m                 Traceback (most recent call last)",
      "\u001b[0;32m<ipython-input-28-16bb36220190>\u001b[0m in \u001b[0;36m<module>\u001b[0;34m()\u001b[0m\n\u001b[1;32m      4\u001b[0m \u001b[0menddate\u001b[0m \u001b[0;34m=\u001b[0m \u001b[0mdatetime\u001b[0m\u001b[0;34m.\u001b[0m\u001b[0mdatetime\u001b[0m\u001b[0;34m(\u001b[0m\u001b[0;36m2017\u001b[0m\u001b[0;34m,\u001b[0m \u001b[0;36m1\u001b[0m\u001b[0;34m,\u001b[0m \u001b[0;36m27\u001b[0m\u001b[0;34m)\u001b[0m\u001b[0;34m\u001b[0m\u001b[0m\n\u001b[1;32m      5\u001b[0m \u001b[0;34m\u001b[0m\u001b[0m\n\u001b[0;32m----> 6\u001b[0;31m \u001b[0mx\u001b[0m\u001b[0;34m=\u001b[0m \u001b[0mweb\u001b[0m\u001b[0;34m.\u001b[0m\u001b[0mDataReader\u001b[0m\u001b[0;34m(\u001b[0m\u001b[0;34m\"Google\"\u001b[0m\u001b[0;34m,\u001b[0m \u001b[0;34m\"yahoo\"\u001b[0m\u001b[0;34m,\u001b[0m \u001b[0mbegdate\u001b[0m\u001b[0;34m,\u001b[0m\u001b[0menddate\u001b[0m\u001b[0;34m)\u001b[0m\u001b[0;34m\u001b[0m\u001b[0m\n\u001b[0m\u001b[1;32m      7\u001b[0m \u001b[0mprint\u001b[0m\u001b[0;34m(\u001b[0m\u001b[0mx\u001b[0m\u001b[0;34m.\u001b[0m\u001b[0mhead\u001b[0m\u001b[0;34m(\u001b[0m\u001b[0;36m2\u001b[0m\u001b[0;34m)\u001b[0m\u001b[0;34m)\u001b[0m\u001b[0;34m\u001b[0m\u001b[0m\n\u001b[1;32m      8\u001b[0m \u001b[0mprint\u001b[0m\u001b[0;34m(\u001b[0m\u001b[0mx\u001b[0m\u001b[0;34m.\u001b[0m\u001b[0mtail\u001b[0m\u001b[0;34m(\u001b[0m\u001b[0;36m3\u001b[0m\u001b[0;34m)\u001b[0m\u001b[0;34m)\u001b[0m\u001b[0;34m\u001b[0m\u001b[0m\n",
      "\u001b[0;32m/Library/Frameworks/Python.framework/Versions/3.6/lib/python3.6/site-packages/pandas_datareader/data.py\u001b[0m in \u001b[0;36mDataReader\u001b[0;34m(name, data_source, start, end, retry_count, pause, session, access_key)\u001b[0m\n\u001b[1;32m    289\u001b[0m     \"\"\"\n\u001b[1;32m    290\u001b[0m     \u001b[0;32mif\u001b[0m \u001b[0mdata_source\u001b[0m \u001b[0;34m==\u001b[0m \u001b[0;34m\"yahoo\"\u001b[0m\u001b[0;34m:\u001b[0m\u001b[0;34m\u001b[0m\u001b[0m\n\u001b[0;32m--> 291\u001b[0;31m         \u001b[0;32mraise\u001b[0m \u001b[0mImmediateDeprecationError\u001b[0m\u001b[0;34m(\u001b[0m\u001b[0mDEP_ERROR_MSG\u001b[0m\u001b[0;34m.\u001b[0m\u001b[0mformat\u001b[0m\u001b[0;34m(\u001b[0m\u001b[0;34m'Yahoo Daily'\u001b[0m\u001b[0;34m)\u001b[0m\u001b[0;34m)\u001b[0m\u001b[0;34m\u001b[0m\u001b[0m\n\u001b[0m\u001b[1;32m    292\u001b[0m         return YahooDailyReader(symbols=name, start=start, end=end,\n\u001b[1;32m    293\u001b[0m                                 \u001b[0madjust_price\u001b[0m\u001b[0;34m=\u001b[0m\u001b[0;32mFalse\u001b[0m\u001b[0;34m,\u001b[0m \u001b[0mchunksize\u001b[0m\u001b[0;34m=\u001b[0m\u001b[0;36m25\u001b[0m\u001b[0;34m,\u001b[0m\u001b[0;34m\u001b[0m\u001b[0m\n",
      "\u001b[0;31mImmediateDeprecationError\u001b[0m: \nYahoo Daily has been immediately deprecated due to large breaks in the API without the\nintroduction of a stable replacement. Pull Requests to re-enable these data\nconnectors are welcome.\n\nSee https://github.com/pydata/pandas-datareader/issues\n"
     ]
    }
   ],
   "source": [
    "import pandas_datareader.data as web\n",
    "import datetime\n",
    "begdate = datetime.datetime(2000, 1, 1)\n",
    "enddate = datetime.datetime(2017, 1, 27)\n",
    "\n",
    "x= web.DataReader(\"Google\", \"yahoo\", begdate,enddate)\n",
    "print(x.head(2))\n",
    "print(x.tail(3))"
   ]
  },
  {
   "cell_type": "code",
   "execution_count": null,
   "metadata": {},
   "outputs": [],
   "source": []
  }
 ],
 "metadata": {
  "kernelspec": {
   "display_name": "Python 3",
   "language": "python",
   "name": "python3"
  },
  "language_info": {
   "codemirror_mode": {
    "name": "ipython",
    "version": 3
   },
   "file_extension": ".py",
   "mimetype": "text/x-python",
   "name": "python",
   "nbconvert_exporter": "python",
   "pygments_lexer": "ipython3",
   "version": "3.6.5"
  }
 },
 "nbformat": 4,
 "nbformat_minor": 2
}
