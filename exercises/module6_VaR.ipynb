{
 "cells": [
  {
   "cell_type": "markdown",
   "metadata": {},
   "source": [
    "# Module 6 Value at Risk"
   ]
  },
  {
   "cell_type": "code",
   "execution_count": 1,
   "metadata": {},
   "outputs": [
    {
     "name": "stdout",
     "output_type": "stream",
     "text": [
      "z= -2.3263478740408408\n",
      "zES= -2.665214220345806\n",
      "VaR= -3239.123475273761\n",
      "ES= -3710.948841352863\n"
     ]
    }
   ],
   "source": [
    "import scipy as sp\n",
    "import scipy.stats as stats\n",
    "x = sp.arange(-3,3,0.01)\n",
    "ret=stats.norm.pdf(x)\n",
    "confidence=0.99\n",
    "position=10000\n",
    "z=stats.norm.ppf(1-confidence)\n",
    "print(\"z=\",z)\n",
    "zES=-stats.norm.pdf(z)/(1-confidence)\n",
    "print(\"zES=\", zES)\n",
    "std=sp.std(ret)\n",
    "VaR=position*z*std\n",
    "print(\"VaR=\",VaR)\n",
    "ES=position*zES*std\n",
    "print(\"ES=\",ES)"
   ]
  },
  {
   "cell_type": "code",
   "execution_count": null,
   "metadata": {},
   "outputs": [],
   "source": []
  }
 ],
 "metadata": {
  "kernelspec": {
   "display_name": "Python 3",
   "language": "python",
   "name": "python3"
  },
  "language_info": {
   "codemirror_mode": {
    "name": "ipython",
    "version": 3
   },
   "file_extension": ".py",
   "mimetype": "text/x-python",
   "name": "python",
   "nbconvert_exporter": "python",
   "pygments_lexer": "ipython3",
   "version": "3.6.5"
  }
 },
 "nbformat": 4,
 "nbformat_minor": 2
}
